{
 "cells": [
  {
   "cell_type": "markdown",
   "id": "457c930e",
   "metadata": {},
   "source": [
    "## Prueba de Conocimientos Python 01\n",
    "\n",
    "Usar solo las librerias vistas en el modulo de **`Introduccion a Python`**."
   ]
  },
  {
   "cell_type": "markdown",
   "id": "82362cb2",
   "metadata": {},
   "source": [
    "### Ejercicio 1:\n",
    "\n",
    "Vamos a definir una función que simule el lanzamiento de un dado de **\"M\"** caras. La función debe preguntar al usuario cuantas caras tiene el dado, luego debe preguntar cuantas veces se quiere lanzar el dado y mostrar los resultados.\n",
    "\n",
    "\n",
    "- Define una función llamada **`dados()`** que no tome ningún parámetro y que haga lo siguiente:\n",
    "\n",
    "    1. Pregunte por pantalla cuantas caras tiene el dado. Guarda este valor en la variable **`m`**.\n",
    "    2. Pregunte por pantalla cuantas veces se va a lanzar el dado. Guarda este valor en la variable **`n`**.\n",
    "    3. Imprima por pantalla: **`Resultados de lanzar un dado de m caras n veces:`**.\n",
    "    4. Imprima por pantalla un número entero aleatorio entre 1 y **`m`** (incluidos) **`n-veces`**.\n",
    "    5. Guarde en una lista los números aleatorios que van saliendo, llama a esta lista **`resultados`**.\n",
    "    5. La función debe retornar la lista **`resultados`**."
   ]
  },
  {
   "cell_type": "code",
   "execution_count": 4,
   "id": "ebbd8965",
   "metadata": {},
   "outputs": [
    {
     "ename": "KeyboardInterrupt",
     "evalue": "Interrupted by user",
     "output_type": "error",
     "traceback": [
      "\u001b[1;31m---------------------------------------------------------------------------\u001b[0m",
      "\u001b[1;31mKeyboardInterrupt\u001b[0m                         Traceback (most recent call last)",
      "\u001b[1;32m<ipython-input-4-1a0a40ec4ce8>\u001b[0m in \u001b[0;36m<module>\u001b[1;34m\u001b[0m\n\u001b[0;32m     11\u001b[0m \u001b[1;33m\u001b[0m\u001b[0m\n\u001b[0;32m     12\u001b[0m     \u001b[1;32mreturn\u001b[0m \u001b[0mresultados\u001b[0m\u001b[1;33m\u001b[0m\u001b[1;33m\u001b[0m\u001b[0m\n\u001b[1;32m---> 13\u001b[1;33m \u001b[0mdados\u001b[0m\u001b[1;33m(\u001b[0m\u001b[1;33m)\u001b[0m\u001b[1;33m\u001b[0m\u001b[1;33m\u001b[0m\u001b[0m\n\u001b[0m",
      "\u001b[1;32m<ipython-input-4-1a0a40ec4ce8>\u001b[0m in \u001b[0;36mdados\u001b[1;34m()\u001b[0m\n\u001b[0;32m      3\u001b[0m \u001b[1;32mdef\u001b[0m \u001b[0mdados\u001b[0m \u001b[1;33m(\u001b[0m\u001b[1;33m)\u001b[0m\u001b[1;33m:\u001b[0m\u001b[1;33m\u001b[0m\u001b[1;33m\u001b[0m\u001b[0m\n\u001b[0;32m      4\u001b[0m     \u001b[0mresultados\u001b[0m \u001b[1;33m=\u001b[0m\u001b[1;33m[\u001b[0m\u001b[1;33m]\u001b[0m\u001b[1;33m\u001b[0m\u001b[1;33m\u001b[0m\u001b[0m\n\u001b[1;32m----> 5\u001b[1;33m     \u001b[0mm\u001b[0m\u001b[1;33m=\u001b[0m \u001b[0mint\u001b[0m\u001b[1;33m(\u001b[0m\u001b[0minput\u001b[0m\u001b[1;33m(\u001b[0m\u001b[1;34m\"¿Cuantas Caras tuene un Dado\"\u001b[0m\u001b[1;33m)\u001b[0m\u001b[1;33m)\u001b[0m\u001b[1;33m\u001b[0m\u001b[1;33m\u001b[0m\u001b[0m\n\u001b[0m\u001b[0;32m      6\u001b[0m     \u001b[0mv\u001b[0m\u001b[1;33m=\u001b[0m\u001b[0mint\u001b[0m\u001b[1;33m(\u001b[0m\u001b[0minput\u001b[0m\u001b[1;33m(\u001b[0m\u001b[1;34m\"¿Cuantas Veces vas a lanzar\"\u001b[0m\u001b[1;33m)\u001b[0m\u001b[1;33m)\u001b[0m\u001b[1;33m\u001b[0m\u001b[1;33m\u001b[0m\u001b[0m\n\u001b[0;32m      7\u001b[0m     \u001b[1;32mfor\u001b[0m \u001b[0mi\u001b[0m \u001b[1;32min\u001b[0m \u001b[0mrange\u001b[0m \u001b[1;33m(\u001b[0m\u001b[1;36m1\u001b[0m\u001b[1;33m,\u001b[0m\u001b[0mv\u001b[0m\u001b[1;33m+\u001b[0m\u001b[1;36m1\u001b[0m\u001b[1;33m)\u001b[0m\u001b[1;33m:\u001b[0m\u001b[1;33m\u001b[0m\u001b[1;33m\u001b[0m\u001b[0m\n",
      "\u001b[1;32m~\\anaconda3\\lib\\site-packages\\ipykernel\\kernelbase.py\u001b[0m in \u001b[0;36mraw_input\u001b[1;34m(self, prompt)\u001b[0m\n\u001b[0;32m    858\u001b[0m                 \u001b[1;34m\"raw_input was called, but this frontend does not support input requests.\"\u001b[0m\u001b[1;33m\u001b[0m\u001b[1;33m\u001b[0m\u001b[0m\n\u001b[0;32m    859\u001b[0m             )\n\u001b[1;32m--> 860\u001b[1;33m         return self._input_request(str(prompt),\n\u001b[0m\u001b[0;32m    861\u001b[0m             \u001b[0mself\u001b[0m\u001b[1;33m.\u001b[0m\u001b[0m_parent_ident\u001b[0m\u001b[1;33m,\u001b[0m\u001b[1;33m\u001b[0m\u001b[1;33m\u001b[0m\u001b[0m\n\u001b[0;32m    862\u001b[0m             \u001b[0mself\u001b[0m\u001b[1;33m.\u001b[0m\u001b[0m_parent_header\u001b[0m\u001b[1;33m,\u001b[0m\u001b[1;33m\u001b[0m\u001b[1;33m\u001b[0m\u001b[0m\n",
      "\u001b[1;32m~\\anaconda3\\lib\\site-packages\\ipykernel\\kernelbase.py\u001b[0m in \u001b[0;36m_input_request\u001b[1;34m(self, prompt, ident, parent, password)\u001b[0m\n\u001b[0;32m    902\u001b[0m             \u001b[1;32mexcept\u001b[0m \u001b[0mKeyboardInterrupt\u001b[0m\u001b[1;33m:\u001b[0m\u001b[1;33m\u001b[0m\u001b[1;33m\u001b[0m\u001b[0m\n\u001b[0;32m    903\u001b[0m                 \u001b[1;31m# re-raise KeyboardInterrupt, to truncate traceback\u001b[0m\u001b[1;33m\u001b[0m\u001b[1;33m\u001b[0m\u001b[1;33m\u001b[0m\u001b[0m\n\u001b[1;32m--> 904\u001b[1;33m                 \u001b[1;32mraise\u001b[0m \u001b[0mKeyboardInterrupt\u001b[0m\u001b[1;33m(\u001b[0m\u001b[1;34m\"Interrupted by user\"\u001b[0m\u001b[1;33m)\u001b[0m \u001b[1;32mfrom\u001b[0m \u001b[1;32mNone\u001b[0m\u001b[1;33m\u001b[0m\u001b[1;33m\u001b[0m\u001b[0m\n\u001b[0m\u001b[0;32m    905\u001b[0m             \u001b[1;32mexcept\u001b[0m \u001b[0mException\u001b[0m \u001b[1;32mas\u001b[0m \u001b[0me\u001b[0m\u001b[1;33m:\u001b[0m\u001b[1;33m\u001b[0m\u001b[1;33m\u001b[0m\u001b[0m\n\u001b[0;32m    906\u001b[0m                 \u001b[0mself\u001b[0m\u001b[1;33m.\u001b[0m\u001b[0mlog\u001b[0m\u001b[1;33m.\u001b[0m\u001b[0mwarning\u001b[0m\u001b[1;33m(\u001b[0m\u001b[1;34m\"Invalid Message:\"\u001b[0m\u001b[1;33m,\u001b[0m \u001b[0mexc_info\u001b[0m\u001b[1;33m=\u001b[0m\u001b[1;32mTrue\u001b[0m\u001b[1;33m)\u001b[0m\u001b[1;33m\u001b[0m\u001b[1;33m\u001b[0m\u001b[0m\n",
      "\u001b[1;31mKeyboardInterrupt\u001b[0m: Interrupted by user"
     ]
    }
   ],
   "source": [
    "import random\n",
    "\n",
    "def dados ():\n",
    "    resultados =[]\n",
    "    m= int(input(\"¿Cuantas Caras tuene un Dado\"))\n",
    "    v=int(input(\"¿Cuantas Veces vas a lanzar\"))\n",
    "    for i in range (1,v+1):\n",
    "        comienza = random.randint(1, m)\n",
    "        \n",
    "        resultados.append(comienza)\n",
    "        \n",
    "    return resultados\n",
    "dados()"
   ]
  },
  {
   "cell_type": "markdown",
   "id": "13cf9c0e",
   "metadata": {},
   "source": [
    "### Ejercicio 2:\n",
    "\n",
    "Vamos a definir una función que simule un cajero automático con un número finito de billetes y monedas. Cada vez que se ejecute la función, el usuario va a ingresar o sacar dinero del cajero. En algún momento el cajero quedará vacio o no se podrá sacar una cifra exacta, en ese caso se deberá imprimir por pantalla que el cajero está fuera de servicio.\n",
    "\n",
    "Para este ejercicio el cajero tendrá billetes de 500, 100, 50, 20, 10 y 5 euros. Y monedas de 2, 1, 0.5, 0.2 y 0.1 euros.\n",
    "\n",
    "- Define una función llamada **`cajero()`** que tome como parametro de entrada un archivo binario (**`archivo`**) y que haga lo siguiente:\n",
    "1. Lea el archivo binario y lo guarde en la variable **`euros`**.\n",
    "    - Este archivo binario es un diccionario que tiene como llaves las denominaciones de billetes y monedas y como valores la cantidad de cada uno en el cajero.\n",
    "    \n",
    "    \n",
    "2. Imprima por pantalla que cantidad tiene de cada billete y moneda, además del total del dinero en el cajero.\n",
    "3. Pregunte por pantalla cuanto dinero el usuario va a sacar del cajero.\n",
    "4. Modifica los valores de cada llave, de modo que parezca que ahora el cajero tiene menos dinero.\n",
    "\n",
    "    - Ejemplo: Si el usuario saca **`97`** euros, este **`97`** se puede representar como **`50*1 + 20*2 + 5*1 + 2*1`**, por lo que de la llave **`50`** se resta 1, de la llave **`20`** se restan 2, de la llave **`5`** se resta 1 y de la llave **`2`** se resta 1.\n",
    "    \n",
    "    \n",
    "5. Guarda el diccionario en un archivo binario con el mismo nombre que el archivo binario del comienzo (**`cajero.pkl`**).\n",
    "\n",
    "6. Si el usuario intenta sacar más dinero del posible, que imprima por pantalla: **`Cajero sin fondos suficientes.`**"
   ]
  },
  {
   "cell_type": "code",
   "execution_count": null,
   "id": "a73cc5fe",
   "metadata": {},
   "outputs": [
    {
     "name": "stdout",
     "output_type": "stream",
     "text": [
      "500 -> 50 unidades\n",
      "100 -> 72 unidades\n",
      "50 -> 33 unidades\n",
      "20 -> 132 unidades\n",
      "10 -> 338 unidades\n",
      "5 -> 200 unidades\n",
      "2 -> 925 unidades\n",
      "1 -> 185 unidades\n",
      "0.5 -> 55 unidades\n",
      "0.2 -> 92 unidades\n",
      "0.1 -> 16 unidades\n",
      "Dinero total: 42952.5 €\n"
     ]
    }
   ],
   "source": [
    "import pickle\n",
    "\n",
    "def cajero():\n",
    "\n",
    "    with open('cajero.pkl', 'rb') as arc:\n",
    "        euros = pickle.load(arc)\n",
    "    \n",
    "    total = 0\n",
    "    # Aqui mostramos el Dicionario roriginal\n",
    "    for dinero in euros:\n",
    "        print(dinero, '->', euros[dinero], 'unidades')\n",
    "        total += dinero * euros[dinero]\n",
    "   #Aqui decimos el dinero que hay     \n",
    "    print('Dinero total:', total, '€')\n",
    "    #Sacamos el dionero\n",
    "    sacar = int(input(\"¿Cuánto dinero desea sacar?\"))\n",
    "    #Decimos si el dineroi esta lleno\n",
    "    if (sacar > total):\n",
    "        print('Cajero sin fondos suficientes')\n",
    "    else:\n",
    "        #Si hay dinero recorremos con un bucle las unidades a quitar\n",
    "        for dinero in euros:\n",
    "            while (sacar >= dinero and euros[dinero] > 0):\n",
    "                sacar -= dinero\n",
    "                euros[dinero] = euros[dinero] - 1\n",
    "#Quiero saber el total de lo que queda (Repites el mismo bucle de mostrar las unidades de billetes y monedas)\n",
    "        total = 0\n",
    "        for dinero in euros:\n",
    "            print(dinero, '->', euros[dinero], 'unidades')\n",
    "            total += dinero * euros[dinero]\n",
    "\n",
    "        print('Dinero total:', total, '€')\n",
    "        #Guardas\n",
    "    with open('cajero.pkl', 'wb') as esc:\n",
    "        pickle.dump(euros, esc)\n",
    "        esc.close()\n",
    "    \n",
    "cajero()"
   ]
  }
 ],
 "metadata": {
  "kernelspec": {
   "display_name": "Python 3",
   "language": "python",
   "name": "python3"
  },
  "language_info": {
   "codemirror_mode": {
    "name": "ipython",
    "version": 3
   },
   "file_extension": ".py",
   "mimetype": "text/x-python",
   "name": "python",
   "nbconvert_exporter": "python",
   "pygments_lexer": "ipython3",
   "version": "3.8.8"
  }
 },
 "nbformat": 4,
 "nbformat_minor": 5
}
